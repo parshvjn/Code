{
 "cells": [
  {
   "cell_type": "code",
   "execution_count": 1,
   "id": "1978cdc9",
   "metadata": {},
   "outputs": [],
   "source": [
    "class shapes:\n",
    "    def circleArea(self, r): # member function\n",
    "        self.r = r # local variable to circleArea\n",
    "        self.area = str((22/7)*(r**2))\n",
    "        return f'{self.area} cm'\n",
    "    def squareArea(self, l):\n",
    "        self.l = l\n",
    "        self.area = l**2\n",
    "        return f'{self.area} cm'\n",
    "    def rectArea(self, l, w):\n",
    "        self.l = l\n",
    "        self.w = w\n",
    "        self.area = l*w\n",
    "        return f'{self.area} cm'\n",
    "    def triArea(self, b, h):\n",
    "        self.b = b\n",
    "        self.h = h\n",
    "        self.area = (b*h)/2\n",
    "        return f'{self.area} cm'\n",
    "    def rhombusArea(self, d1, d2):\n",
    "        self.d1 = d1\n",
    "        self.d2 = d2\n",
    "        self.area = (d1*d2)/2\n",
    "        return f'{self.area} cm'\n",
    "    def parallelogramArea(self, b, h):\n",
    "        self.b = b\n",
    "        self.h = h\n",
    "        self.area = b*h\n",
    "        return f'{self.area} cm'\n"
   ]
  },
  {
   "cell_type": "code",
   "execution_count": 2,
   "id": "dc32c9b7",
   "metadata": {},
   "outputs": [
    {
     "data": {
      "text/plain": [
       "'154.0 cm'"
      ]
     },
     "execution_count": 2,
     "metadata": {},
     "output_type": "execute_result"
    }
   ],
   "source": [
    "shape = shapes() # shape is an object of the class\n",
    "shape.circleArea(7)"
   ]
  },
  {
   "cell_type": "code",
   "execution_count": 3,
   "id": "04d4eb88",
   "metadata": {},
   "outputs": [
    {
     "data": {
      "text/plain": [
       "<__main__.shapes at 0x10772b460>"
      ]
     },
     "execution_count": 3,
     "metadata": {},
     "output_type": "execute_result"
    }
   ],
   "source": [
    "shapes()"
   ]
  },
  {
   "cell_type": "code",
   "execution_count": 4,
   "id": "572f3cf6",
   "metadata": {},
   "outputs": [
    {
     "data": {
      "text/plain": [
       "'49 cm'"
      ]
     },
     "execution_count": 4,
     "metadata": {},
     "output_type": "execute_result"
    }
   ],
   "source": [
    "shape.squareArea(7)"
   ]
  },
  {
   "cell_type": "code",
   "execution_count": 5,
   "id": "6edaf5ab",
   "metadata": {},
   "outputs": [
    {
     "name": "stdout",
     "output_type": "stream",
     "text": [
      "20 cm\n",
      "21.0 cm\n",
      "7.5 cm\n",
      "72 cm\n"
     ]
    }
   ],
   "source": [
    "print(shape.rectArea(5,4))\n",
    "print(shape.triArea(6,7))\n",
    "print(shape.rhombusArea(5,3))\n",
    "print(shape.parallelogramArea(8,9))"
   ]
  },
  {
   "cell_type": "code",
   "execution_count": null,
   "id": "e9990f42",
   "metadata": {},
   "outputs": [],
   "source": []
  }
 ],
 "metadata": {
  "kernelspec": {
   "display_name": "Python 3 (ipykernel)",
   "language": "python",
   "name": "python3"
  },
  "language_info": {
   "codemirror_mode": {
    "name": "ipython",
    "version": 3
   },
   "file_extension": ".py",
   "mimetype": "text/x-python",
   "name": "python",
   "nbconvert_exporter": "python",
   "pygments_lexer": "ipython3",
   "version": "3.10.2"
  }
 },
 "nbformat": 4,
 "nbformat_minor": 5
}
