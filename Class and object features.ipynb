{
 "cells": [
  {
   "cell_type": "markdown",
   "id": "87ea84f1",
   "metadata": {},
   "source": [
    "# Single-Inheritence"
   ]
  },
  {
   "cell_type": "code",
   "execution_count": 1,
   "id": "f5b52466",
   "metadata": {},
   "outputs": [],
   "source": [
    "class parents:\n",
    "    def display(self):\n",
    "        print('INSIDE CLASS PARENTS')"
   ]
  },
  {
   "cell_type": "code",
   "execution_count": 2,
   "id": "1def8861",
   "metadata": {},
   "outputs": [],
   "source": [
    "class child(parents): #putting parents in child class so it inherits all functionality of parents\n",
    "    def display_child(self):\n",
    "        print('INSIDE OF CLASS CHILD')"
   ]
  },
  {
   "cell_type": "code",
   "execution_count": 3,
   "id": "9cf85d47",
   "metadata": {},
   "outputs": [],
   "source": [
    "# p=parents()\n",
    "# p.display()\n"
   ]
  },
  {
   "cell_type": "code",
   "execution_count": 4,
   "id": "945a70d7",
   "metadata": {},
   "outputs": [
    {
     "name": "stdout",
     "output_type": "stream",
     "text": [
      "INSIDE CLASS PARENTS\n",
      "INSIDE OF CLASS CHILD\n"
     ]
    }
   ],
   "source": [
    "c=child()\n",
    "c.display() #from single inheritence\n",
    "c.display_child()"
   ]
  },
  {
   "cell_type": "markdown",
   "id": "15a1d8e7",
   "metadata": {},
   "source": [
    "# ____________________________"
   ]
  },
  {
   "cell_type": "code",
   "execution_count": 5,
   "id": "c7a14bb1",
   "metadata": {},
   "outputs": [],
   "source": [
    "class apple:\n",
    "    def company_info(self): # level 0\n",
    "        print('Founder : Steve Jobs')\n",
    "        print('founded in 1976')\n",
    "class apple_products(apple): #level 1\n",
    "    def display_specs(self):\n",
    "        print('Displays available: TFT display, HDR display, AMOLED display')"
   ]
  },
  {
   "cell_type": "code",
   "execution_count": 6,
   "id": "c4aca6a0",
   "metadata": {},
   "outputs": [
    {
     "name": "stdout",
     "output_type": "stream",
     "text": [
      "Displays available: TFT display, HDR display, AMOLED display\n",
      "Founder : Steve Jobs\n",
      "founded in 1976\n"
     ]
    }
   ],
   "source": [
    "ap = apple_products()\n",
    "ap.display_specs()\n",
    "ap.company_info()"
   ]
  },
  {
   "cell_type": "markdown",
   "id": "950566dd",
   "metadata": {},
   "source": [
    "# Multi-level Inheritence"
   ]
  },
  {
   "cell_type": "code",
   "execution_count": 7,
   "id": "54724005",
   "metadata": {},
   "outputs": [],
   "source": [
    "class apple1:\n",
    "    def company_info1(self): # level 0\n",
    "        return('Founder : steve ,\\nfounded in 1976')\n",
    "class apple_products1(apple1): #level 1\n",
    "    def display_specs1(self):\n",
    "        return('Displays available: TFT display, HDR display, AMOLED display')\n",
    "\n",
    "class ipad(apple_products1):\n",
    "    def ipad_specs(self):\n",
    "        self.comp_info = apple_products1.company_info1(self)\n",
    "        self.disp_info = apple_products1.display_specs1(self) # you put self in calling because the function is part of a different class\n",
    "        #it also is a pointer to tell what class it is going to, it might work without it but its good to use\n",
    "        self.sensors = {'processor': 'M1',\n",
    "                       'RAM' : '16GB'}\n",
    "        print(self.comp_info,'\\n', self.disp_info, '\\n',self.sensors)"
   ]
  },
  {
   "cell_type": "code",
   "execution_count": 8,
   "id": "c42a24e9",
   "metadata": {},
   "outputs": [
    {
     "data": {
      "text/plain": [
       "'Founder : steve ,\\nfounded in 1976'"
      ]
     },
     "execution_count": 8,
     "metadata": {},
     "output_type": "execute_result"
    }
   ],
   "source": [
    "ap1 = apple_products1()\n",
    "ap1.display_specs1()\n",
    "ap1.company_info1()"
   ]
  },
  {
   "cell_type": "code",
   "execution_count": 9,
   "id": "ec840db0",
   "metadata": {},
   "outputs": [
    {
     "name": "stdout",
     "output_type": "stream",
     "text": [
      "Founder : steve ,\n",
      "founded in 1976 \n",
      " Displays available: TFT display, HDR display, AMOLED display \n",
      " {'processor': 'M1', 'RAM': '16GB'}\n"
     ]
    }
   ],
   "source": [
    "ip = ipad()\n",
    "ip.ipad_specs()"
   ]
  },
  {
   "cell_type": "markdown",
   "id": "8f3fb78c",
   "metadata": {},
   "source": [
    "# Hierarchical Inheritence"
   ]
  },
  {
   "cell_type": "code",
   "execution_count": 10,
   "id": "d5abd7aa",
   "metadata": {},
   "outputs": [],
   "source": [
    "class vehicles:\n",
    "    def purposeOfVehicle(self):\n",
    "        return('transportation')\n",
    "class wheeler_4(vehicles):\n",
    "    def numOfWheels(self):\n",
    "        print('A car has 4 wheels.')\n",
    "        print(vehicles.purposeOfVehicle(self))\n",
    "class wheeler_2(vehicles):\n",
    "    def numOfWheels(self):\n",
    "        print('A bike has 2 wheels')\n",
    "        print(vehicles.purposeOfVehicle(self))"
   ]
  },
  {
   "cell_type": "code",
   "execution_count": 11,
   "id": "bd9ee089",
   "metadata": {},
   "outputs": [
    {
     "name": "stdout",
     "output_type": "stream",
     "text": [
      "A car has 4 wheels.\n",
      "transportation\n",
      "A bike has 2 wheels\n",
      "transportation\n"
     ]
    }
   ],
   "source": [
    "w4 = wheeler_4()\n",
    "w2 = wheeler_2()\n",
    "w4.numOfWheels()\n",
    "w2.numOfWheels()"
   ]
  },
  {
   "cell_type": "code",
   "execution_count": 12,
   "id": "77af05cb",
   "metadata": {},
   "outputs": [],
   "source": [
    "#Hw: start with animal class, write a class program for different types of mammals which inherit the same charecteristics(2-3 types)\n",
    "#mammal types like amphibians"
   ]
  },
  {
   "cell_type": "code",
   "execution_count": 13,
   "id": "8df23d66",
   "metadata": {},
   "outputs": [],
   "source": [
    "class animal:\n",
    "    def infoAboutAnimals(self):\n",
    "        return('Animals are living organisms that eat organic matter.')\n",
    "class amphibians(animal):\n",
    "    def info(self):\n",
    "        print('Amphibians can live in water and out on land too. They can absorb and breathe water through their thin skin')\n",
    "        print(animal.infoAboutAnimals(self))\n",
    "class birds(animal):\n",
    "    def info(self):\n",
    "        print('Birds have feathers. Young are born from hard-shelled eggs.')\n",
    "        print(animal.infoAboutAnimals(self))\n",
    "class mammal(animal):\n",
    "    def info(self):\n",
    "        print('Mammals are warm-blooded and the females give birth to the young.')\n",
    "        print(animal.infoAboutAnimals(self))\n",
    "class fish(animal):\n",
    "    def info(self):\n",
    "        print('Fish have gills, scales and fins.')\n",
    "        print(animal.infoAboutAnimals(self))\n",
    "class reptile(animal):\n",
    "    def info(self):\n",
    "        print('Reptiles are cold-blooded with scaly skin. Most reptiles lay eggs')\n",
    "        print(animal.infoAboutAnimals(self))"
   ]
  },
  {
   "cell_type": "code",
   "execution_count": 14,
   "id": "e332c61f",
   "metadata": {},
   "outputs": [
    {
     "name": "stdout",
     "output_type": "stream",
     "text": [
      "Amphibians can live in water and out on land too. They can absorb and breathe water through their thin skin\n",
      "Animals are living organisms that eat organic matter.\n",
      "Birds have feathers. Young are born from hard-shelled eggs.\n",
      "Animals are living organisms that eat organic matter.\n",
      "Mammals are warm-blooded and the females give birth to the young.\n",
      "Animals are living organisms that eat organic matter.\n",
      "Fish have gills, scales and fins.\n",
      "Animals are living organisms that eat organic matter.\n",
      "Reptiles are cold-blooded with scaly skin. Most reptiles lay eggs\n",
      "Animals are living organisms that eat organic matter.\n"
     ]
    }
   ],
   "source": [
    "am = amphibians()\n",
    "bi = birds()\n",
    "ma = mammal()\n",
    "fi = fish()\n",
    "re = reptile()\n",
    "am.info()\n",
    "bi.info()\n",
    "ma.info()\n",
    "fi.info()\n",
    "re.info()"
   ]
  },
  {
   "cell_type": "code",
   "execution_count": null,
   "id": "8bd41afb",
   "metadata": {},
   "outputs": [],
   "source": []
  }
 ],
 "metadata": {
  "kernelspec": {
   "display_name": "Python 3 (ipykernel)",
   "language": "python",
   "name": "python3"
  },
  "language_info": {
   "codemirror_mode": {
    "name": "ipython",
    "version": 3
   },
   "file_extension": ".py",
   "mimetype": "text/x-python",
   "name": "python",
   "nbconvert_exporter": "python",
   "pygments_lexer": "ipython3",
   "version": "3.10.2"
  }
 },
 "nbformat": 4,
 "nbformat_minor": 5
}
