{
 "cells": [
  {
   "cell_type": "markdown",
   "id": "10f0911d",
   "metadata": {},
   "source": [
    "# 1. List comprehension codes"
   ]
  },
  {
   "cell_type": "markdown",
   "id": "cef83a8d",
   "metadata": {},
   "source": [
    "1. find all even numebrs in a range\n",
    "2. find all odd numebrs in a range\n",
    "3. find whether a number is greater than a particular number\n",
    "4. right angled triangle pattern using list comprehension"
   ]
  },
  {
   "cell_type": "code",
   "execution_count": 1,
   "id": "9f68cc71",
   "metadata": {},
   "outputs": [
    {
     "name": "stdout",
     "output_type": "stream",
     "text": [
      "0\n",
      "2\n",
      "4\n",
      "6\n",
      "8\n",
      "10\n"
     ]
    }
   ],
   "source": [
    "for i in range(0, 11):\n",
    "    if i % 2 == 0:\n",
    "        print(i)"
   ]
  },
  {
   "cell_type": "code",
   "execution_count": 2,
   "id": "a04fe8f4",
   "metadata": {},
   "outputs": [
    {
     "data": {
      "text/plain": [
       "[0, 2, 4, 6, 8, 10]"
      ]
     },
     "execution_count": 2,
     "metadata": {},
     "output_type": "execute_result"
    }
   ],
   "source": [
    "w=[i for i in range(0,11) if i%2 == 0] #[<var> for-loop condition]\n",
    "w"
   ]
  },
  {
   "cell_type": "code",
   "execution_count": 3,
   "id": "0b30b441",
   "metadata": {},
   "outputs": [
    {
     "data": {
      "text/plain": [
       "[1, 3, 5, 7, 9]"
      ]
     },
     "execution_count": 3,
     "metadata": {},
     "output_type": "execute_result"
    }
   ],
   "source": [
    "w=[x for x in range(0, 11) if x%2 != 0]\n",
    "w"
   ]
  },
  {
   "cell_type": "code",
   "execution_count": 4,
   "id": "d17845c8",
   "metadata": {},
   "outputs": [
    {
     "data": {
      "text/plain": [
       "[4, 5, 6, 7, 8, 9, 10]"
      ]
     },
     "execution_count": 4,
     "metadata": {},
     "output_type": "execute_result"
    }
   ],
   "source": [
    "num = 3\n",
    "\n",
    "h=[x for x in range(0, 11) if x>num]\n",
    "h"
   ]
  },
  {
   "cell_type": "code",
   "execution_count": 5,
   "id": "f269b808",
   "metadata": {},
   "outputs": [
    {
     "data": {
      "text/plain": [
       "[2, 5, 8]"
      ]
     },
     "execution_count": 5,
     "metadata": {},
     "output_type": "execute_result"
    }
   ],
   "source": [
    "h=[x for x in range(0,11) if (x%3)>1]\n",
    "h"
   ]
  },
  {
   "cell_type": "code",
   "execution_count": 6,
   "id": "e620dfa1",
   "metadata": {},
   "outputs": [
    {
     "name": "stdout",
     "output_type": "stream",
     "text": [
      "* \n",
      "* * \n",
      "* * * \n",
      "* * * * \n",
      "* * * * * \n",
      "* * * * * * \n",
      "* * * * * * * \n",
      "* * * * * * * * \n",
      "* * * * * * * * * \n",
      "* * * * * * * * * * \n"
     ]
    }
   ],
   "source": [
    "n=10\n",
    "for i in range(n):\n",
    "    for j in range(i+1):\n",
    "        print('*', end=' ')\n",
    "    print()"
   ]
  },
  {
   "cell_type": "code",
   "execution_count": 7,
   "id": "4c6eb9e5",
   "metadata": {},
   "outputs": [
    {
     "name": "stdout",
     "output_type": "stream",
     "text": [
      " *\n",
      " * *\n",
      " * * *\n",
      " * * * *\n",
      " * * * * *\n",
      " * * * * * *\n",
      " * * * * * * *\n",
      " * * * * * * * *\n",
      " * * * * * * * * *\n",
      " * * * * * * * * * *\n"
     ]
    }
   ],
   "source": [
    "print(*[' *' * i for i in range(1,n+1)], sep='\\n')"
   ]
  },
  {
   "cell_type": "code",
   "execution_count": 8,
   "id": "289ee1a6",
   "metadata": {},
   "outputs": [
    {
     "name": "stdout",
     "output_type": "stream",
     "text": [
      " *\n",
      " * *\n",
      " * * *\n"
     ]
    },
    {
     "data": {
      "text/plain": [
       "[None]"
      ]
     },
     "execution_count": 8,
     "metadata": {},
     "output_type": "execute_result"
    }
   ],
   "source": [
    "n = 3\n",
    "e = [print(*[' *' * i for i in range(1,n+1)], sep='\\n')]\n",
    "e"
   ]
  },
  {
   "cell_type": "markdown",
   "id": "1d5e1ef5",
   "metadata": {},
   "source": [
    "# 2. User defined functions"
   ]
  },
  {
   "cell_type": "code",
   "execution_count": 9,
   "id": "7928f85b",
   "metadata": {},
   "outputs": [
    {
     "data": {
      "text/plain": [
       "10"
      ]
     },
     "execution_count": 9,
     "metadata": {},
     "output_type": "execute_result"
    }
   ],
   "source": [
    "a=0\n",
    "def function(a, b):\n",
    "#     global a\n",
    "    a=10\n",
    "    return a\n",
    "function(20,10)"
   ]
  },
  {
   "cell_type": "code",
   "execution_count": 10,
   "id": "1634ff85",
   "metadata": {},
   "outputs": [
    {
     "data": {
      "text/plain": [
       "0"
      ]
     },
     "execution_count": 10,
     "metadata": {},
     "output_type": "execute_result"
    }
   ],
   "source": [
    "a=0\n",
    "def function(b):\n",
    "    global a\n",
    "#     a=10\n",
    "    return a\n",
    "function(10)"
   ]
  },
  {
   "cell_type": "markdown",
   "id": "61829e6a",
   "metadata": {},
   "source": [
    "1. args and kwargs\n"
   ]
  },
  {
   "cell_type": "code",
   "execution_count": 11,
   "id": "5505de95",
   "metadata": {},
   "outputs": [
    {
     "data": {
      "text/plain": [
       "{0: [0, 2, 4, 6, 8, 10, 12, 14, 16, 18],\n",
       " 1: [0, 2, 4, 6, 8, 10, 12, 14, 16, 18],\n",
       " 2: [0, 2, 4, 6, 8, 10, 12, 14, 16, 18],\n",
       " 3: [0, 2, 4, 6, 8, 10, 12, 14, 16, 18],\n",
       " 4: [0, 2, 4, 6, 8, 10, 12, 14, 16, 18],\n",
       " 5: [0, 2, 4, 6, 8, 10, 12, 14, 16, 18],\n",
       " 6: [0, 2, 4, 6, 8, 10, 12, 14, 16, 18],\n",
       " 7: [0, 2, 4, 6, 8, 10, 12, 14, 16, 18],\n",
       " 8: [0, 2, 4, 6, 8, 10, 12, 14, 16, 18],\n",
       " 9: [0, 2, 4, 6, 8, 10, 12, 14, 16, 18]}"
      ]
     },
     "execution_count": 11,
     "metadata": {},
     "output_type": "execute_result"
    }
   ],
   "source": [
    "a=0\n",
    "def function(**args):\n",
    "#     global a\n",
    "    for i in range(10):\n",
    "        args[i] = [j*2 for j in range(10)]\n",
    "#     args[1] = 20\n",
    "#     a=10\n",
    "    return args\n",
    "function()"
   ]
  },
  {
   "cell_type": "code",
   "execution_count": 12,
   "id": "cb4fd693",
   "metadata": {},
   "outputs": [
    {
     "name": "stdout",
     "output_type": "stream",
     "text": [
      "{'kwargs': 'a', 'kwargs_2': 'b'}\n"
     ]
    }
   ],
   "source": [
    "def function1(**kwargs):\n",
    "    print(kwargs)\n",
    "\n",
    "function1(kwargs='a', kwargs_2 = 'b')"
   ]
  },
  {
   "cell_type": "code",
   "execution_count": 13,
   "id": "7f50cd16",
   "metadata": {},
   "outputs": [
    {
     "name": "stdout",
     "output_type": "stream",
     "text": [
      "(10, 20, 30, 'a') {'b2': 'b2'}\n"
     ]
    }
   ],
   "source": [
    "def both_function(*a, **b):\n",
    "    print(a,b) # on star is args and 2 is kwargs the name doesn't have to be 'kwargs' in the function above\n",
    "\n",
    "both_function(10, 20, 30, 'a', b2 = 'b2')"
   ]
  },
  {
   "cell_type": "code",
   "execution_count": 14,
   "id": "7f76adfb",
   "metadata": {},
   "outputs": [
    {
     "data": {
      "text/plain": [
       "[2, 3, 5, 7, 11, 13, 17, 19]"
      ]
     },
     "execution_count": 14,
     "metadata": {},
     "output_type": "execute_result"
    }
   ],
   "source": [
    "#HW: find prime numbers using list comprehension\n",
    "n = 20\n",
    "p= [j for i in range(2,n+1) for j in range(i*2, n, i)] #creating all possible numbers\n",
    "prime = [x for x in range(2, n) if x not in p] #taking out all the numbers that are not present in the previous list\n",
    "prime"
   ]
  },
  {
   "cell_type": "code",
   "execution_count": 15,
   "id": "7b972dc2",
   "metadata": {},
   "outputs": [
    {
     "data": {
      "text/plain": [
       "True"
      ]
     },
     "execution_count": 15,
     "metadata": {},
     "output_type": "execute_result"
    }
   ],
   "source": [
    "any([1,2, False]) #if there is atleast one true item then true"
   ]
  },
  {
   "cell_type": "code",
   "execution_count": 16,
   "id": "183fa00e",
   "metadata": {},
   "outputs": [
    {
     "data": {
      "text/plain": [
       "False"
      ]
     },
     "execution_count": 16,
     "metadata": {},
     "output_type": "execute_result"
    }
   ],
   "source": [
    "all([1,2, False]) #all items have to be true, even one is false then false"
   ]
  },
  {
   "cell_type": "code",
   "execution_count": 17,
   "id": "e1238429",
   "metadata": {},
   "outputs": [
    {
     "data": {
      "text/plain": [
       "[2,\n",
       " 3,\n",
       " 5,\n",
       " 7,\n",
       " 11,\n",
       " 13,\n",
       " 17,\n",
       " 19,\n",
       " 23,\n",
       " 29,\n",
       " 31,\n",
       " 37,\n",
       " 41,\n",
       " 43,\n",
       " 47,\n",
       " 53,\n",
       " 59,\n",
       " 61,\n",
       " 67,\n",
       " 71,\n",
       " 73,\n",
       " 79,\n",
       " 83,\n",
       " 89,\n",
       " 97,\n",
       " 101,\n",
       " 103,\n",
       " 107,\n",
       " 109,\n",
       " 113,\n",
       " 127,\n",
       " 131,\n",
       " 137,\n",
       " 139,\n",
       " 149,\n",
       " 151,\n",
       " 157,\n",
       " 163,\n",
       " 167,\n",
       " 173,\n",
       " 179,\n",
       " 181,\n",
       " 191,\n",
       " 193,\n",
       " 197,\n",
       " 199]"
      ]
     },
     "execution_count": 17,
     "metadata": {},
     "output_type": "execute_result"
    }
   ],
   "source": [
    "m = 200\n",
    "primes = [x for x in range(2, m) if all(x%y!=0 for y in range(2,x))]\n",
    "primes"
   ]
  },
  {
   "cell_type": "markdown",
   "id": "2660f547",
   "metadata": {},
   "source": [
    "2. mutation in function"
   ]
  },
  {
   "cell_type": "markdown",
   "id": "76cd04e8",
   "metadata": {},
   "source": [
    "# 3. Lambda function"
   ]
  },
  {
   "cell_type": "code",
   "execution_count": 18,
   "id": "37450c39",
   "metadata": {},
   "outputs": [
    {
     "data": {
      "text/plain": [
       "4"
      ]
     },
     "execution_count": 18,
     "metadata": {},
     "output_type": "execute_result"
    }
   ],
   "source": [
    "#anonymous function of python\n",
    "\n",
    "a= lambda x : x**2\n",
    "\n",
    "a(2)\n",
    "# you can try to use list comprehension in anonymous function to make functiosn with many lines of code in ONE LINE!"
   ]
  },
  {
   "cell_type": "code",
   "execution_count": 19,
   "id": "fe3c74fb",
   "metadata": {},
   "outputs": [
    {
     "data": {
      "text/plain": [
       "'hello world'"
      ]
     },
     "execution_count": 19,
     "metadata": {},
     "output_type": "execute_result"
    }
   ],
   "source": [
    "# ternary operations: 'if and else but in one line'\n",
    "x = 3\n",
    "x+1 if x==2 else 'hello world'"
   ]
  },
  {
   "cell_type": "markdown",
   "id": "5264c3b2",
   "metadata": {},
   "source": [
    "# HW: \n",
    "### 1. using lamda function  find whether  a number is odd or even\n",
    "### 2. prime number with lambda and list comprehension\n",
    "### 3. try args and kwargs with lambda\n",
    "### 4. convert each digit of a string into numbers using lambda function\n",
    "### for example- '19324' --> to #'s 1,9,3,2,4\n",
    "### 5. after converting each digit to numbers find the sum"
   ]
  },
  {
   "cell_type": "code",
   "execution_count": 20,
   "id": "93a3970a",
   "metadata": {},
   "outputs": [
    {
     "name": "stdout",
     "output_type": "stream",
     "text": [
      "odd\n",
      "even\n"
     ]
    }
   ],
   "source": [
    "# 1:\n",
    "\n",
    "evOrOd = lambda y : print('even') if y%2 == 0 else print('odd')\n",
    "evOrOd(3)\n",
    "evOrOd(4)"
   ]
  },
  {
   "cell_type": "code",
   "execution_count": 21,
   "id": "132d45f9",
   "metadata": {},
   "outputs": [
    {
     "data": {
      "text/plain": [
       "[2,\n",
       " 3,\n",
       " 5,\n",
       " 7,\n",
       " 11,\n",
       " 13,\n",
       " 17,\n",
       " 19,\n",
       " 23,\n",
       " 29,\n",
       " 31,\n",
       " 37,\n",
       " 41,\n",
       " 43,\n",
       " 47,\n",
       " 53,\n",
       " 59,\n",
       " 61,\n",
       " 67,\n",
       " 71,\n",
       " 73,\n",
       " 79]"
      ]
     },
     "execution_count": 21,
     "metadata": {},
     "output_type": "execute_result"
    }
   ],
   "source": [
    "# 2:\n",
    "\n",
    "prime43 = lambda m : [x for x in range(2, m) if all(x%y!=0 for y in range(2,x))]\n",
    "prime43(80)"
   ]
  },
  {
   "cell_type": "code",
   "execution_count": 22,
   "id": "3559fb00",
   "metadata": {},
   "outputs": [
    {
     "name": "stdout",
     "output_type": "stream",
     "text": [
      "('hi', 2, 4) {'a': 5, 'person': 'person', 'num': 4}\n"
     ]
    }
   ],
   "source": [
    "# 3: IT WORKS! lambda with args and kwargs :D\n",
    "\n",
    "g = lambda *args, **kwargs : print(args, kwargs)\n",
    "g('hi', 2, 4, a = 5, person = 'person', num = 4)"
   ]
  },
  {
   "cell_type": "code",
   "execution_count": 30,
   "id": "5c700768",
   "metadata": {},
   "outputs": [
    {
     "name": "stdout",
     "output_type": "stream",
     "text": [
      "[1, 9, 3, 2, 4]\n"
     ]
    }
   ],
   "source": [
    "# 4:\n",
    "\n",
    "string = '19324'\n",
    "convert = lambda string1 : print(list(map(int, string1)))\n",
    "convert(string)"
   ]
  },
  {
   "cell_type": "code",
   "execution_count": 35,
   "id": "fe17a819",
   "metadata": {},
   "outputs": [
    {
     "name": "stdout",
     "output_type": "stream",
     "text": [
      "19\n"
     ]
    }
   ],
   "source": [
    "# 5:\n",
    "\n",
    "convert = lambda string1 : print(sum((list(map(int, string1)))))\n",
    "convert('19324')\n"
   ]
  },
  {
   "cell_type": "code",
   "execution_count": null,
   "id": "a2761b6b",
   "metadata": {},
   "outputs": [],
   "source": []
  }
 ],
 "metadata": {
  "kernelspec": {
   "display_name": "Python 3 (ipykernel)",
   "language": "python",
   "name": "python3"
  },
  "language_info": {
   "codemirror_mode": {
    "name": "ipython",
    "version": 3
   },
   "file_extension": ".py",
   "mimetype": "text/x-python",
   "name": "python",
   "nbconvert_exporter": "python",
   "pygments_lexer": "ipython3",
   "version": "3.10.2"
  }
 },
 "nbformat": 4,
 "nbformat_minor": 5
}
