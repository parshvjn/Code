{
 "cells": [
  {
   "cell_type": "code",
   "execution_count": 1,
   "id": "0b87e60e",
   "metadata": {},
   "outputs": [
    {
     "name": "stdout",
     "output_type": "stream",
     "text": [
      "Time taken = 0.005094541993457824\n"
     ]
    }
   ],
   "source": [
    "import time\n",
    "a = []\n",
    "ti = time.perf_counter()\n",
    "for x in range(1, 10001):\n",
    "    b = x**3\n",
    "    a.append(b)\n",
    "tf = time.perf_counter()\n",
    "print(\"Time taken = {}\".format(tf-ti))"
   ]
  },
  {
   "cell_type": "markdown",
   "id": "ec4da974",
   "metadata": {},
   "source": [
    "# Map function\n",
    "##### Map function returns a map object of the results after applying the given function to each item of the given iterable like lists or tuples"
   ]
  },
  {
   "cell_type": "code",
   "execution_count": 2,
   "id": "7fceb6f7",
   "metadata": {},
   "outputs": [
    {
     "name": "stdout",
     "output_type": "stream",
     "text": [
      "Time taken = 0.0002822499955072999\n"
     ]
    }
   ],
   "source": [
    "def cube(n):\n",
    "    return n**3\n",
    "ti = time.perf_counter()\n",
    "list(map(cube, range(1,1001)))\n",
    "tf = time.perf_counter()\n",
    "print(\"Time taken = {}\".format(tf-ti))"
   ]
  },
  {
   "cell_type": "code",
   "execution_count": 3,
   "id": "eb6042b4",
   "metadata": {},
   "outputs": [
    {
     "name": "stdout",
     "output_type": "stream",
     "text": [
      "Time taken = 0.0002596249687485397\n"
     ]
    }
   ],
   "source": [
    "ti = time.perf_counter()\n",
    "h = [i**3 for i in range(1, 1001)]\n",
    "tf = time.perf_counter()\n",
    "print(\"Time taken = {}\".format(tf-ti))"
   ]
  },
  {
   "cell_type": "code",
   "execution_count": 4,
   "id": "fab46bd3",
   "metadata": {},
   "outputs": [],
   "source": [
    "#types of functions: in-built, user-defined, anoymous(lambda)"
   ]
  },
  {
   "cell_type": "code",
   "execution_count": 5,
   "id": "5400c416",
   "metadata": {
    "scrolled": true
   },
   "outputs": [
    {
     "name": "stdout",
     "output_type": "stream",
     "text": [
      "Time taken = 0.003788999980315566\n"
     ]
    }
   ],
   "source": [
    "num = []\n",
    "ti = time.perf_counter()\n",
    "for i in range(2,1001):\n",
    "    for x in range(2,i):\n",
    "        if i%x == 0:\n",
    "            break\n",
    "    else:\n",
    "        num.append(i)\n",
    "tf = time.perf_counter()\n",
    "print(\"Time taken = {}\".format(tf-ti))"
   ]
  },
  {
   "cell_type": "code",
   "execution_count": 6,
   "id": "70db9250",
   "metadata": {},
   "outputs": [
    {
     "name": "stdout",
     "output_type": "stream",
     "text": [
      "Time taken = 0.0025321670109406114\n"
     ]
    }
   ],
   "source": [
    "def prime(g):\n",
    "    for x in range(2, g):\n",
    "        if g%x == 0:\n",
    "            return None\n",
    "    else:\n",
    "        return g\n",
    "\n",
    "ti = time.perf_counter()\n",
    "list(map(prime, range(2, 1001)))\n",
    "tf = time.perf_counter()\n",
    "print(\"Time taken = {}\".format(tf-ti))"
   ]
  },
  {
   "cell_type": "code",
   "execution_count": 7,
   "id": "3237f0f2",
   "metadata": {},
   "outputs": [
    {
     "data": {
      "text/plain": [
       "0.005905041005462408"
      ]
     },
     "execution_count": 7,
     "metadata": {},
     "output_type": "execute_result"
    }
   ],
   "source": [
    "0.01376699999673292-0.007861958991270512"
   ]
  },
  {
   "cell_type": "code",
   "execution_count": null,
   "id": "ec0f0818",
   "metadata": {},
   "outputs": [],
   "source": []
  }
 ],
 "metadata": {
  "kernelspec": {
   "display_name": "Python 3 (ipykernel)",
   "language": "python",
   "name": "python3"
  },
  "language_info": {
   "codemirror_mode": {
    "name": "ipython",
    "version": 3
   },
   "file_extension": ".py",
   "mimetype": "text/x-python",
   "name": "python",
   "nbconvert_exporter": "python",
   "pygments_lexer": "ipython3",
   "version": "3.10.2"
  }
 },
 "nbformat": 4,
 "nbformat_minor": 5
}
