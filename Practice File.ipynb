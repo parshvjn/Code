{
 "cells": [
  {
   "cell_type": "code",
   "execution_count": 6,
   "id": "13ea230b",
   "metadata": {},
   "outputs": [
    {
     "data": {
      "text/plain": [
       "[7, 14, 21, 28, 35, 42, 49, 56, 63, 70, 77, 84, 91, 98]"
      ]
     },
     "execution_count": 6,
     "metadata": {},
     "output_type": "execute_result"
    }
   ],
   "source": [
    "a = [x for x in range(1,101) if x%7==0]\n",
    "a"
   ]
  },
  {
   "cell_type": "code",
   "execution_count": 8,
   "id": "ec2be727",
   "metadata": {},
   "outputs": [
    {
     "name": "stdout",
     "output_type": "stream",
     "text": [
      "5 X 1 = 5\n",
      "5 X 2 = 10\n",
      "5 X 3 = 15\n",
      "5 X 4 = 20\n",
      "5 X 5 = 25\n",
      "5 X 6 = 30\n",
      "5 X 7 = 35\n",
      "5 X 8 = 40\n",
      "5 X 9 = 45\n",
      "5 X 10 = 50\n"
     ]
    }
   ],
   "source": [
    "n=5\n",
    "for t in range(1,11):\n",
    "    print(f'{n} X {t} = {n*t}')"
   ]
  },
  {
   "cell_type": "code",
   "execution_count": 14,
   "id": "ee08dbaf",
   "metadata": {},
   "outputs": [
    {
     "name": "stdout",
     "output_type": "stream",
     "text": [
      "5 X 1 = 5\n",
      "5 X 2 = 10\n",
      "5 X 3 = 15\n",
      "5 X 4 = 20\n",
      "5 X 5 = 25\n",
      "5 X 6 = 30\n",
      "5 X 7 = 35\n",
      "5 X 8 = 40\n",
      "5 X 9 = 45\n",
      "5 X 10 = 50\n"
     ]
    }
   ],
   "source": [
    "#list comprehension: output, loop, condition\n",
    "a = 5\n",
    "b = [print(f'{a} X {c} = {a*c}') for c in range(1, 11)]"
   ]
  },
  {
   "cell_type": "code",
   "execution_count": 17,
   "id": "4d427059",
   "metadata": {},
   "outputs": [
    {
     "name": "stdout",
     "output_type": "stream",
     "text": [
      "5 X 1 = 5\n",
      "5 X 2 = 10\n",
      "5 X 3 = 15\n",
      "5 X 4 = 20\n",
      "5 X 5 = 25\n",
      "5 X 6 = 30\n",
      "5 X 7 = 35\n",
      "5 X 8 = 40\n",
      "5 X 9 = 45\n",
      "5 X 10 = 50\n"
     ]
    },
    {
     "data": {
      "text/plain": [
       "[None, None, None, None, None, None, None, None, None, None]"
      ]
     },
     "execution_count": 17,
     "metadata": {},
     "output_type": "execute_result"
    }
   ],
   "source": [
    "h = 5\n",
    "g = lambda u : [print(f'{u} X {x} = {u*x}') for x in range(1,11)]\n",
    "g(h)"
   ]
  },
  {
   "cell_type": "code",
   "execution_count": 21,
   "id": "60fb5559",
   "metadata": {},
   "outputs": [
    {
     "name": "stdout",
     "output_type": "stream",
     "text": [
      "6\n",
      "9\n"
     ]
    }
   ],
   "source": [
    "li = [2,3,4,7,8,9, 100, 200, 300]\n",
    "ki = [4,5,6,9,10,11]\n",
    "# 1. which elements are present in ki and not in li\n",
    "# 2. out of all the elements in ki, which numbers are multiple of 3\n",
    "\n",
    "for item in ki:\n",
    "    if item%3 == 0:\n",
    "        print(item)"
   ]
  },
  {
   "cell_type": "code",
   "execution_count": 19,
   "id": "623a0672",
   "metadata": {},
   "outputs": [
    {
     "name": "stdout",
     "output_type": "stream",
     "text": [
      "6\n",
      "9\n"
     ]
    }
   ],
   "source": [
    "hi = [print(item) for item in ki if item%3 == 0]"
   ]
  },
  {
   "cell_type": "code",
   "execution_count": 20,
   "id": "ca2a9f88",
   "metadata": {},
   "outputs": [
    {
     "name": "stdout",
     "output_type": "stream",
     "text": [
      "5\n",
      "6\n",
      "10\n",
      "11\n"
     ]
    }
   ],
   "source": [
    "for item in ki:\n",
    "    if item not in li:\n",
    "        print(item)"
   ]
  },
  {
   "cell_type": "code",
   "execution_count": 22,
   "id": "8be7b028",
   "metadata": {},
   "outputs": [
    {
     "name": "stdout",
     "output_type": "stream",
     "text": [
      "2\n",
      "3\n",
      "7\n",
      "8\n",
      "100\n",
      "200\n",
      "300\n"
     ]
    }
   ],
   "source": [
    "for item in li:\n",
    "    if item not in ki:\n",
    "        print(item)"
   ]
  },
  {
   "cell_type": "code",
   "execution_count": 23,
   "id": "4ee043cc",
   "metadata": {},
   "outputs": [
    {
     "name": "stdout",
     "output_type": "stream",
     "text": [
      "4\n",
      "9\n"
     ]
    }
   ],
   "source": [
    "for item in li:\n",
    "    if item in ki:\n",
    "        print(item)"
   ]
  },
  {
   "cell_type": "code",
   "execution_count": 24,
   "id": "26df2cef",
   "metadata": {},
   "outputs": [
    {
     "name": "stdout",
     "output_type": "stream",
     "text": [
      "4\n",
      "9\n"
     ]
    }
   ],
   "source": [
    "ji = [print(item) for item in li if item in ki]"
   ]
  },
  {
   "cell_type": "code",
   "execution_count": 25,
   "id": "fe5730aa",
   "metadata": {},
   "outputs": [
    {
     "name": "stdout",
     "output_type": "stream",
     "text": [
      "5\n",
      "6\n",
      "10\n",
      "11\n"
     ]
    }
   ],
   "source": [
    "ji = [print(item) for item in ki if item not in li]"
   ]
  },
  {
   "cell_type": "code",
   "execution_count": 30,
   "id": "85977bc7",
   "metadata": {},
   "outputs": [
    {
     "data": {
      "text/plain": [
       "[14, 28, 42]"
      ]
     },
     "execution_count": 30,
     "metadata": {},
     "output_type": "execute_result"
    }
   ],
   "source": [
    "# generate multiples of 2 (1-50)\n",
    "# find which numbers are multiples of 7\n",
    "\n",
    "yi = [x for x in range(1, 51) if x%2==0 and x%7 == 0]\n",
    "yi"
   ]
  },
  {
   "cell_type": "code",
   "execution_count": 34,
   "id": "30ec34bb",
   "metadata": {},
   "outputs": [
    {
     "data": {
      "text/plain": [
       "[2, 3, 7, 11, 13, 17, 19]"
      ]
     },
     "execution_count": 34,
     "metadata": {},
     "output_type": "execute_result"
    }
   ],
   "source": [
    "nums = 20\n",
    "primes = [x for x in range(2, nums+1) if all(x%y!= 0 for y in range(2,x)) and x%5 != 0]\n",
    "primes"
   ]
  },
  {
   "cell_type": "code",
   "execution_count": 38,
   "id": "b688078f",
   "metadata": {},
   "outputs": [
    {
     "data": {
      "text/plain": [
       "[2, 3, 7, 11, 13, 17, 19]"
      ]
     },
     "execution_count": 38,
     "metadata": {},
     "output_type": "execute_result"
    }
   ],
   "source": [
    "nums1 = 20\n",
    "primes1 = [i for i in [x for x in range(2, nums1+1) if all(x%y!= 0 for y in range(2,x)) and x%5 != 0] if i%5!=0]\n",
    "primes1"
   ]
  },
  {
   "cell_type": "code",
   "execution_count": 39,
   "id": "c7ef5228",
   "metadata": {},
   "outputs": [
    {
     "data": {
      "text/plain": [
       "[-10, -9, -8, -7, -6, -5, -4, -3, -2, -1, 0, 1, 2, 3, 4, 5, 6, 7, 8, 9]"
      ]
     },
     "execution_count": 39,
     "metadata": {},
     "output_type": "execute_result"
    }
   ],
   "source": [
    "#Hw:\n",
    "# find all the numbers whose sum is 5 from a sequence of numbers from -10 to 10(no repeats like 1+4 and 4+1)\n",
    "# for no repeats use duplicate removal (like how you use ki and li (what numebrs are in and not in list))\n",
    "list(range(-10,10))"
   ]
  },
  {
   "cell_type": "code",
   "execution_count": 8,
   "id": "e97c25e3",
   "metadata": {},
   "outputs": [
    {
     "data": {
      "text/plain": [
       "[(9, -4), (8, -3), (7, -2), (6, -1), (5, 0), (4, 1), (3, 2)]"
      ]
     },
     "execution_count": 8,
     "metadata": {},
     "output_type": "execute_result"
    }
   ],
   "source": [
    "bu = list(range(-10,10))\n",
    "N = 5\n",
    "out = []\n",
    "ji = [out.append((N-item, item)) for item in bu if N - item in bu and (item, N-item) not in out]\n",
    "out"
   ]
  },
  {
   "cell_type": "code",
   "execution_count": null,
   "id": "51600f27",
   "metadata": {},
   "outputs": [],
   "source": []
  }
 ],
 "metadata": {
  "kernelspec": {
   "display_name": "Python 3 (ipykernel)",
   "language": "python",
   "name": "python3"
  },
  "language_info": {
   "codemirror_mode": {
    "name": "ipython",
    "version": 3
   },
   "file_extension": ".py",
   "mimetype": "text/x-python",
   "name": "python",
   "nbconvert_exporter": "python",
   "pygments_lexer": "ipython3",
   "version": "3.10.2"
  }
 },
 "nbformat": 4,
 "nbformat_minor": 5
}
